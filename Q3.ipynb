{
 "cells": [
  {
   "cell_type": "code",
   "execution_count": 237,
   "id": "584624ec",
   "metadata": {},
   "outputs": [],
   "source": [
    "import re\n",
    "from collections import Counter\n",
    "from nltk.tokenize import word_tokenize\n",
    "import seaborn as sns\n",
    "import scipy.stats as stats\n",
    "from sklearn.feature_extraction.text import CountVectorizer, TfidfVectorizer "
   ]
  },
  {
   "cell_type": "code",
   "execution_count": 238,
   "id": "5cbd0f48",
   "metadata": {},
   "outputs": [],
   "source": [
    "dstring = \"As a term, data analytics predominantly refers to an assortment of applications, from basic business \\nintelligence (BI), reporting and online analytical processing (OLAP) to various forms of advanced \\nanalytics . In that sense, it's similar in nature to business analytics , another umbrella term for \\napproaches to analyzing data -- with the difference that the latter is oriented to business uses, while \\ndata analytics has a broader focus. The expansive view of the term isn't universal, though: In some \\ncases, people use data analytics specifically to mean advanced analytics , treating BI as a separate \\ncategory. Data analytics initiatives can help businesses increase revenues, improve operational \\nefficiency, optimize marketing campaigns and customer service efforts, respond more quickly to \\nemerging market trends and gain a competitive edge over rivals -- all with the ultimate goal of \\nboosting business performance. Depending on the particular application, the data that's analyzed \\ncan consist of either historical records or new information that has been processed for real-time \\nanalytics uses. In addition, it can come from a mix of internal systems and external data sources. At \\na high level, data analytics methodologies include exploratory data analysis (EDA), which aims to find \\npatterns and relationships in data, and confirmatory data analysis (CDA), which applies statistical \\ntechniques to determine whether hypotheses about a data set are true or false. EDA is often \\ncompared to detective work, while CDA is akin to the work of a judge or jury during a court trial -- a \\ndistinction first drawn by statistician John W. Tukey in his 1977 book Exploratory Data Analysis . Data \\nanalytics can also be separated into quantitative data analysis and qualitative data analysis . The \\nformer involves analysis of numerical data with quantifiable variables that can be compared or \\nmeasured statistically. The qualitative approach is more interpretive -- it focuses on understanding \\nthe content of non-numerical data like text, images, audio and video, including common phrases, \\nthemes and points of view.\""
   ]
  },
  {
   "cell_type": "code",
   "execution_count": 239,
   "id": "0adb7cd2",
   "metadata": {},
   "outputs": [
    {
     "name": "stdout",
     "output_type": "stream",
     "text": [
      "As a term, data analytics predominantly refers to an assortment of applications, from basic business \n",
      "intelligence (BI), reporting and online analytical processing (OLAP) to various forms of advanced \n",
      "analytics . In that sense, it's similar in nature to business analytics , another umbrella term for \n",
      "approaches to analyzing data -- with the difference that the latter is oriented to business uses, while \n",
      "data analytics has a broader focus. The expansive view of the term isn't universal, though: In some \n",
      "cases, people use data analytics specifically to mean advanced analytics , treating BI as a separate \n",
      "category. Data analytics initiatives can help businesses increase revenues, improve operational \n",
      "efficiency, optimize marketing campaigns and customer service efforts, respond more quickly to \n",
      "emerging market trends and gain a competitive edge over rivals -- all with the ultimate goal of \n",
      "boosting business performance. Depending on the particular application, the data that's analyzed \n",
      "can consist of either historical records or new information that has been processed for real-time \n",
      "analytics uses. In addition, it can come from a mix of internal systems and external data sources. At \n",
      "a high level, data analytics methodologies include exploratory data analysis (EDA), which aims to find \n",
      "patterns and relationships in data, and confirmatory data analysis (CDA), which applies statistical \n",
      "techniques to determine whether hypotheses about a data set are true or false. EDA is often \n",
      "compared to detective work, while CDA is akin to the work of a judge or jury during a court trial -- a \n",
      "distinction first drawn by statistician John W. Tukey in his 1977 book Exploratory Data Analysis . Data \n",
      "analytics can also be separated into quantitative data analysis and qualitative data analysis . The \n",
      "former involves analysis of numerical data with quantifiable variables that can be compared or \n",
      "measured statistically. The qualitative approach is more interpretive -- it focuses on understanding \n",
      "the content of non-numerical data like text, images, audio and video, including common phrases, \n",
      "themes and points of view.\n"
     ]
    }
   ],
   "source": [
    "print(dstring)"
   ]
  },
  {
   "cell_type": "markdown",
   "id": "f9bf0f69",
   "metadata": {},
   "source": [
    "### a. What is the probability of the word “data” occurring in each line ?"
   ]
  },
  {
   "cell_type": "code",
   "execution_count": 240,
   "id": "3d4d4077",
   "metadata": {},
   "outputs": [],
   "source": [
    "# Convert each word to lowercase\n",
    "dstring = dstring.lower()\n",
    "\n",
    "# Split words into List\n",
    "wordlist = dstring.split()\n",
    "\n",
    "# Split sentences into List\n",
    "linelist = dstring.splitlines()"
   ]
  },
  {
   "cell_type": "code",
   "execution_count": 241,
   "id": "6137d936",
   "metadata": {},
   "outputs": [],
   "source": [
    "d = {}\n",
    "\n",
    "for word in wordlist:\n",
    "    d[word] = d.get(word, 0) + 1\n",
    "    word.replace(',','').replace('.','')"
   ]
  },
  {
   "cell_type": "code",
   "execution_count": 242,
   "id": "b2003311",
   "metadata": {},
   "outputs": [
    {
     "data": {
      "text/plain": [
       "{'as': 2,\n",
       " 'a': 10,\n",
       " 'term,': 1,\n",
       " 'data': 17,\n",
       " 'analytics': 10,\n",
       " 'predominantly': 1,\n",
       " 'refers': 1,\n",
       " 'to': 11,\n",
       " 'an': 1,\n",
       " 'assortment': 1,\n",
       " 'of': 10,\n",
       " 'applications,': 1,\n",
       " 'from': 2,\n",
       " 'basic': 1,\n",
       " 'business': 4,\n",
       " 'intelligence': 1,\n",
       " '(bi),': 1,\n",
       " 'reporting': 1,\n",
       " 'and': 9,\n",
       " 'online': 1,\n",
       " 'analytical': 1,\n",
       " 'processing': 1,\n",
       " '(olap)': 1,\n",
       " 'various': 1,\n",
       " 'forms': 1,\n",
       " 'advanced': 2,\n",
       " '.': 3,\n",
       " 'in': 6,\n",
       " 'that': 4,\n",
       " 'sense,': 1,\n",
       " \"it's\": 1,\n",
       " 'similar': 1,\n",
       " 'nature': 1,\n",
       " ',': 2,\n",
       " 'another': 1,\n",
       " 'umbrella': 1,\n",
       " 'term': 2,\n",
       " 'for': 2,\n",
       " 'approaches': 1,\n",
       " 'analyzing': 1,\n",
       " '--': 4,\n",
       " 'with': 3,\n",
       " 'the': 11,\n",
       " 'difference': 1,\n",
       " 'latter': 1,\n",
       " 'is': 4,\n",
       " 'oriented': 1,\n",
       " 'uses,': 1,\n",
       " 'while': 2,\n",
       " 'has': 2,\n",
       " 'broader': 1,\n",
       " 'focus.': 1,\n",
       " 'expansive': 1,\n",
       " 'view': 1,\n",
       " \"isn't\": 1,\n",
       " 'universal,': 1,\n",
       " 'though:': 1,\n",
       " 'some': 1,\n",
       " 'cases,': 1,\n",
       " 'people': 1,\n",
       " 'use': 1,\n",
       " 'specifically': 1,\n",
       " 'mean': 1,\n",
       " 'treating': 1,\n",
       " 'bi': 1,\n",
       " 'separate': 1,\n",
       " 'category.': 1,\n",
       " 'initiatives': 1,\n",
       " 'can': 5,\n",
       " 'help': 1,\n",
       " 'businesses': 1,\n",
       " 'increase': 1,\n",
       " 'revenues,': 1,\n",
       " 'improve': 1,\n",
       " 'operational': 1,\n",
       " 'efficiency,': 1,\n",
       " 'optimize': 1,\n",
       " 'marketing': 1,\n",
       " 'campaigns': 1,\n",
       " 'customer': 1,\n",
       " 'service': 1,\n",
       " 'efforts,': 1,\n",
       " 'respond': 1,\n",
       " 'more': 2,\n",
       " 'quickly': 1,\n",
       " 'emerging': 1,\n",
       " 'market': 1,\n",
       " 'trends': 1,\n",
       " 'gain': 1,\n",
       " 'competitive': 1,\n",
       " 'edge': 1,\n",
       " 'over': 1,\n",
       " 'rivals': 1,\n",
       " 'all': 1,\n",
       " 'ultimate': 1,\n",
       " 'goal': 1,\n",
       " 'boosting': 1,\n",
       " 'performance.': 1,\n",
       " 'depending': 1,\n",
       " 'on': 2,\n",
       " 'particular': 1,\n",
       " 'application,': 1,\n",
       " \"that's\": 1,\n",
       " 'analyzed': 1,\n",
       " 'consist': 1,\n",
       " 'either': 1,\n",
       " 'historical': 1,\n",
       " 'records': 1,\n",
       " 'or': 4,\n",
       " 'new': 1,\n",
       " 'information': 1,\n",
       " 'been': 1,\n",
       " 'processed': 1,\n",
       " 'real-time': 1,\n",
       " 'uses.': 1,\n",
       " 'addition,': 1,\n",
       " 'it': 2,\n",
       " 'come': 1,\n",
       " 'mix': 1,\n",
       " 'internal': 1,\n",
       " 'systems': 1,\n",
       " 'external': 1,\n",
       " 'sources.': 1,\n",
       " 'at': 1,\n",
       " 'high': 1,\n",
       " 'level,': 1,\n",
       " 'methodologies': 1,\n",
       " 'include': 1,\n",
       " 'exploratory': 2,\n",
       " 'analysis': 6,\n",
       " '(eda),': 1,\n",
       " 'which': 2,\n",
       " 'aims': 1,\n",
       " 'find': 1,\n",
       " 'patterns': 1,\n",
       " 'relationships': 1,\n",
       " 'data,': 1,\n",
       " 'confirmatory': 1,\n",
       " '(cda),': 1,\n",
       " 'applies': 1,\n",
       " 'statistical': 1,\n",
       " 'techniques': 1,\n",
       " 'determine': 1,\n",
       " 'whether': 1,\n",
       " 'hypotheses': 1,\n",
       " 'about': 1,\n",
       " 'set': 1,\n",
       " 'are': 1,\n",
       " 'true': 1,\n",
       " 'false.': 1,\n",
       " 'eda': 1,\n",
       " 'often': 1,\n",
       " 'compared': 2,\n",
       " 'detective': 1,\n",
       " 'work,': 1,\n",
       " 'cda': 1,\n",
       " 'akin': 1,\n",
       " 'work': 1,\n",
       " 'judge': 1,\n",
       " 'jury': 1,\n",
       " 'during': 1,\n",
       " 'court': 1,\n",
       " 'trial': 1,\n",
       " 'distinction': 1,\n",
       " 'first': 1,\n",
       " 'drawn': 1,\n",
       " 'by': 1,\n",
       " 'statistician': 1,\n",
       " 'john': 1,\n",
       " 'w.': 1,\n",
       " 'tukey': 1,\n",
       " 'his': 1,\n",
       " '1977': 1,\n",
       " 'book': 1,\n",
       " 'also': 1,\n",
       " 'be': 2,\n",
       " 'separated': 1,\n",
       " 'into': 1,\n",
       " 'quantitative': 1,\n",
       " 'qualitative': 2,\n",
       " 'former': 1,\n",
       " 'involves': 1,\n",
       " 'numerical': 1,\n",
       " 'quantifiable': 1,\n",
       " 'variables': 1,\n",
       " 'measured': 1,\n",
       " 'statistically.': 1,\n",
       " 'approach': 1,\n",
       " 'interpretive': 1,\n",
       " 'focuses': 1,\n",
       " 'understanding': 1,\n",
       " 'content': 1,\n",
       " 'non-numerical': 1,\n",
       " 'like': 1,\n",
       " 'text,': 1,\n",
       " 'images,': 1,\n",
       " 'audio': 1,\n",
       " 'video,': 1,\n",
       " 'including': 1,\n",
       " 'common': 1,\n",
       " 'phrases,': 1,\n",
       " 'themes': 1,\n",
       " 'points': 1,\n",
       " 'view.': 1}"
      ]
     },
     "execution_count": 242,
     "metadata": {},
     "output_type": "execute_result"
    }
   ],
   "source": [
    "d"
   ]
  },
  {
   "cell_type": "code",
   "execution_count": 243,
   "id": "91e0432c",
   "metadata": {},
   "outputs": [
    {
     "name": "stdout",
     "output_type": "stream",
     "text": [
      "Word count of 'data':  17\n",
      "Number of lines:  22\n"
     ]
    }
   ],
   "source": [
    "data = d['data']\n",
    "print(\"Word count of 'data': \", data)\n",
    "\n",
    "line_list_number = len(linelist)\n",
    "print(\"Number of lines: \", line_list_number)"
   ]
  },
  {
   "cell_type": "code",
   "execution_count": 244,
   "id": "ee656d1b",
   "metadata": {},
   "outputs": [
    {
     "data": {
      "text/plain": [
       "0.7727272727272727"
      ]
     },
     "execution_count": 244,
     "metadata": {},
     "output_type": "execute_result"
    }
   ],
   "source": [
    "dataprob = data/(len(linelist))\n",
    "dataprob"
   ]
  },
  {
   "cell_type": "markdown",
   "id": "130749bd",
   "metadata": {},
   "source": [
    "Probability of the word “data” occurring in each line is 0.77."
   ]
  },
  {
   "cell_type": "markdown",
   "id": "6186bf5f",
   "metadata": {},
   "source": [
    "### b. What is the distribution of distinct word counts across all the lines ?"
   ]
  },
  {
   "cell_type": "code",
   "execution_count": 245,
   "id": "153e3fa9",
   "metadata": {},
   "outputs": [],
   "source": [
    "def tokenize(string):\n",
    "    return re.compile('\\w+').findall(string)\n",
    "\n",
    "def freq(string):\n",
    "    text = tokenize(string.lower())\n",
    "    d = Counter(' '.join(text))\n",
    "    c = Counter(text)\n",
    "    return (dict(c))\n",
    "\n",
    "def returnfreq(string):\n",
    "    text = tokenize(string.lower())\n",
    "    d = Counter(' '.join(text))\n",
    "    c = Counter(text)\n",
    "    return (dict(c), dict(d))"
   ]
  },
  {
   "cell_type": "code",
   "execution_count": 246,
   "id": "74dbc3f3",
   "metadata": {},
   "outputs": [],
   "source": [
    "words = freq(dstring)\n",
    "words, letters = returnfreq(dstring)"
   ]
  },
  {
   "cell_type": "code",
   "execution_count": 247,
   "id": "93ae6411",
   "metadata": {},
   "outputs": [],
   "source": [
    "distinct_word = []"
   ]
  },
  {
   "cell_type": "code",
   "execution_count": 248,
   "id": "1cf1b9ff",
   "metadata": {},
   "outputs": [
    {
     "name": "stdout",
     "output_type": "stream",
     "text": [
      "[15, 13, 14, 14, 17, 14, 11, 12, 16, 12, 16, 18, 14, 11, 16, 17, 15, 12, 14, 12, 15, 5]\n"
     ]
    }
   ],
   "source": [
    "for line in linelist:\n",
    "    distinct_word.append(len(freq(line)))\n",
    "    \n",
    "print(distinct_word)"
   ]
  },
  {
   "cell_type": "code",
   "execution_count": 249,
   "id": "29040bae",
   "metadata": {},
   "outputs": [
    {
     "name": "stderr",
     "output_type": "stream",
     "text": [
      "/Users/yeeyiengjellybean/opt/anaconda3/lib/python3.9/site-packages/seaborn/distributions.py:2619: FutureWarning: `distplot` is a deprecated function and will be removed in a future version. Please adapt your code to use either `displot` (a figure-level function with similar flexibility) or `kdeplot` (an axes-level function for kernel density plots).\n",
      "  warnings.warn(msg, FutureWarning)\n",
      "/Users/yeeyiengjellybean/opt/anaconda3/lib/python3.9/site-packages/seaborn/distributions.py:2103: FutureWarning: The `axis` variable is no longer used and will be removed. Instead, assign variables directly to `x` or `y`.\n",
      "  warnings.warn(msg, FutureWarning)\n"
     ]
    },
    {
     "data": {
      "image/png": "[encoded data removed]",
      "text/plain": [
       "<Figure size 432x288 with 1 Axes>"
      ]
     },
     "metadata": {
      "needs_background": "light"
     },
     "output_type": "display_data"
    }
   ],
   "source": [
    "sns.distplot(distinct_word, fit_kws={\"color\":\"red\"}, fit=stats.gamma, kde=True, hist=None, rug=True);"
   ]
  },
  {
   "cell_type": "markdown",
   "id": "6eb1a554",
   "metadata": {},
   "source": [
    "The distribution of distinct word counts across all the lines is normal."
   ]
  },
  {
   "cell_type": "markdown",
   "id": "37fdcdfe",
   "metadata": {},
   "source": [
    "### c. What is the probability of the word “analytics” occurring after the word “data” ?"
   ]
  },
  {
   "cell_type": "code",
   "execution_count": 250,
   "id": "46e7792d",
   "metadata": {},
   "outputs": [],
   "source": [
    "bigram_word = re.findall('\\w+', dstring)\n",
    "bigram_count = Counter(zip(bigram_word,bigram_word[1:]))"
   ]
  },
  {
   "cell_type": "code",
   "execution_count": 251,
   "id": "e1162eef",
   "metadata": {},
   "outputs": [
    {
     "name": "stdout",
     "output_type": "stream",
     "text": [
      "Number of Data Analytics:  6\n",
      "Number of analytics:  10\n"
     ]
    }
   ],
   "source": [
    "data_acount = bigram_count[('data', 'analytics')]\n",
    "\n",
    "analytics = d['analytics']\n",
    "\n",
    "print(\"Number of Data Analytics: \", data_acount)\n",
    "print(\"Number of analytics: \", analytics)"
   ]
  },
  {
   "cell_type": "code",
   "execution_count": 252,
   "id": "e01a2f21",
   "metadata": {},
   "outputs": [
    {
     "data": {
      "text/plain": [
       "0.6"
      ]
     },
     "execution_count": 252,
     "metadata": {},
     "output_type": "execute_result"
    }
   ],
   "source": [
    "anaprob = (data_acount/analytics)\n",
    "anaprob"
   ]
  },
  {
   "cell_type": "markdown",
   "id": "8925924d",
   "metadata": {},
   "source": [
    "Probability of the word “data” occurring in each line is 0.6."
   ]
  },
  {
   "cell_type": "code",
   "execution_count": null,
   "id": "7a579b8a",
   "metadata": {},
   "outputs": [],
   "source": []
  }
 ],
 "metadata": {
  "kernelspec": {
   "display_name": "Python 3 (ipykernel)",
   "language": "python",
   "name": "python3"
  },
  "language_info": {
   "codemirror_mode": {
    "name": "ipython",
    "version": 3
   },
   "file_extension": ".py",
   "mimetype": "text/x-python",
   "name": "python",
   "nbconvert_exporter": "python",
   "pygments_lexer": "ipython3",
   "version": "3.9.12"
  }
 },
 "nbformat": 4,
 "nbformat_minor": 5
}
